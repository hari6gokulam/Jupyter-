{
 "cells": [
  {
   "cell_type": "code",
   "execution_count": 1,
   "metadata": {
    "colab": {
     "base_uri": "https://localhost:8080/"
    },
    "id": "QCdDrkkGm3yj",
    "outputId": "437d9e23-cb49-43fa-9e65-8ef467e29d14"
   },
   "outputs": [
    {
     "name": "stdout",
     "output_type": "stream",
     "text": [
      "1\n",
      "3\n",
      "5\n",
      "7\n",
      "9\n",
      " max value of counter 11\n"
     ]
    }
   ],
   "source": [
    "#counter function and if condition EVEN Numbers\n",
    "counter=1\n",
    "while counter<11:\n",
    "  \n",
    "  if counter % 2==0:\n",
    "    counter += 1\n",
    "    continue\n",
    "  print(counter)\n",
    "  counter += 1\n",
    "else:\n",
    "  print (\" max value of counter\",counter)"
   ]
  },
  {
   "cell_type": "code",
   "execution_count": 2,
   "metadata": {
    "colab": {
     "base_uri": "https://localhost:8080/"
    },
    "id": "pTxbDFytqUOA",
    "outputId": "b9f5433f-49e1-4238-d1a0-1eb5d80e8b11"
   },
   "outputs": [
    {
     "name": "stdout",
     "output_type": "stream",
     "text": [
      "a\n",
      "b\n",
      "c,d\n"
     ]
    }
   ],
   "source": [
    "#cleated a list named test, used for loop to print included elements one below the other\n",
    "\n",
    "test = [\"a\",\"b\",\"c,d\"]\n",
    "for i in test:\n",
    "  print (i)"
   ]
  },
  {
   "cell_type": "code",
   "execution_count": 3,
   "metadata": {
    "colab": {
     "base_uri": "https://localhost:8080/"
    },
    "id": "JNicnNrjrVSs",
    "outputId": "7d8326b4-9d38-49d8-c508-5630c068d043"
   },
   "outputs": [
    {
     "name": "stdout",
     "output_type": "stream",
     "text": [
      "1\n",
      "2\n",
      "3\n",
      "4\n",
      "5\n",
      "6\n",
      "7\n",
      "8\n",
      "9\n",
      "10\n"
     ]
    }
   ],
   "source": [
    "#range function and for loop to print 1 to 10 one below other\n",
    "for i in range(1,11):\n",
    "  print(i)"
   ]
  },
  {
   "cell_type": "code",
   "execution_count": 4,
   "metadata": {
    "colab": {
     "base_uri": "https://localhost:8080/"
    },
    "id": "-3qCdZOurxqp",
    "outputId": "18091368-8f0a-4d3c-f44c-8b9c2ce4501f"
   },
   "outputs": [
    {
     "name": "stdout",
     "output_type": "stream",
     "text": [
      "26\n",
      "28\n",
      "value of i 29\n"
     ]
    }
   ],
   "source": [
    "#even and odd using range fn |use of for and if\n",
    "for i in range(25,30):\n",
    "  if i%2!=0:\n",
    "\n",
    "    continue\n",
    "  print(i)\n",
    "else:\n",
    "    print(\"value of i\",i)"
   ]
  },
  {
   "cell_type": "code",
   "execution_count": 5,
   "metadata": {
    "colab": {
     "base_uri": "https://localhost:8080/"
    },
    "id": "7XJAtmtyut8g",
    "outputId": "5f321aaf-0d2b-4994-fd3c-861e75b42f9f"
   },
   "outputs": [
    {
     "name": "stdout",
     "output_type": "stream",
     "text": [
      "1\n",
      "4\n",
      "7\n",
      "10\n",
      "13\n",
      "value= 13\n"
     ]
    }
   ],
   "source": [
    "#range function with increment as a parameter\n",
    "for i in range(1,14,3):\n",
    "  print (i)\n",
    "else:\n",
    "  print(\"value=\", i)\n"
   ]
  },
  {
   "cell_type": "code",
   "execution_count": 6,
   "metadata": {
    "colab": {
     "base_uri": "https://localhost:8080/"
    },
    "id": "H811yEMkvW67",
    "outputId": "56e539cc-ea41-4276-d1f4-a260531025b5"
   },
   "outputs": [
    {
     "name": "stdout",
     "output_type": "stream",
     "text": [
      "4\n",
      "6\n",
      "8\n",
      "10\n",
      "value ending= 10\n"
     ]
    }
   ],
   "source": [
    "#range function with increment as a parameter\n",
    "#my tweaking expt\n",
    "for i in range(4,11,2):\n",
    "  print (i)\n",
    "else:\n",
    "  print('value ending=', i)\n"
   ]
  },
  {
   "cell_type": "code",
   "execution_count": 7,
   "metadata": {
    "id": "jeGmD4uovno4"
   },
   "outputs": [
    {
     "name": "stdout",
     "output_type": "stream",
     "text": [
      "1\n",
      "\n",
      "1.0\n",
      "\n",
      "0.5\n",
      "\n",
      "0.3333333333333333\n",
      "\n",
      "0.25\n",
      "\n",
      "0.2\n",
      "\n",
      "0.16666666666666666\n",
      "\n",
      "0.14285714285714285\n",
      "\n",
      "0.125\n",
      "\n",
      "0.1111111111111111\n",
      "\n",
      "0.1\n",
      "\n",
      "2\n",
      "\n",
      "2.0\n",
      "\n",
      "1.0\n",
      "\n",
      "0.6666666666666666\n",
      "\n",
      "0.5\n",
      "\n",
      "0.4\n",
      "\n",
      "0.3333333333333333\n",
      "\n",
      "0.2857142857142857\n",
      "\n",
      "0.25\n",
      "\n",
      "0.2222222222222222\n",
      "\n",
      "0.2\n",
      "\n",
      "3\n",
      "\n",
      "3.0\n",
      "\n",
      "1.5\n",
      "\n",
      "1.0\n",
      "\n",
      "0.75\n",
      "\n",
      "0.6\n",
      "\n",
      "0.5\n",
      "\n",
      "0.42857142857142855\n",
      "\n",
      "0.375\n",
      "\n",
      "0.3333333333333333\n",
      "\n",
      "0.3\n",
      "\n",
      "4\n",
      "\n",
      "4.0\n",
      "\n",
      "2.0\n",
      "\n",
      "1.3333333333333333\n",
      "\n",
      "1.0\n",
      "\n",
      "0.8\n",
      "\n",
      "0.6666666666666666\n",
      "\n",
      "0.5714285714285714\n",
      "\n",
      "0.5\n",
      "\n",
      "0.4444444444444444\n",
      "\n",
      "0.4\n",
      "\n",
      "5\n",
      "\n",
      "5.0\n",
      "\n",
      "2.5\n",
      "\n",
      "1.6666666666666667\n",
      "\n",
      "1.25\n",
      "\n",
      "1.0\n",
      "\n",
      "0.8333333333333334\n",
      "\n",
      "0.7142857142857143\n",
      "\n",
      "0.625\n",
      "\n",
      "0.5555555555555556\n",
      "\n",
      "0.5\n",
      "\n",
      "6\n",
      "\n",
      "6.0\n",
      "\n",
      "3.0\n",
      "\n",
      "2.0\n",
      "\n",
      "1.5\n",
      "\n",
      "1.2\n",
      "\n",
      "1.0\n",
      "\n",
      "0.8571428571428571\n",
      "\n",
      "0.75\n",
      "\n",
      "0.6666666666666666\n",
      "\n",
      "0.6\n",
      "\n",
      "7\n",
      "\n",
      "7.0\n",
      "\n",
      "3.5\n",
      "\n",
      "2.3333333333333335\n",
      "\n",
      "1.75\n",
      "\n",
      "1.4\n",
      "\n",
      "1.1666666666666667\n",
      "\n",
      "1.0\n",
      "\n",
      "0.875\n",
      "\n",
      "0.7777777777777778\n",
      "\n",
      "0.7\n",
      "\n",
      "8\n",
      "\n",
      "8.0\n",
      "\n",
      "4.0\n",
      "\n",
      "2.6666666666666665\n",
      "\n",
      "2.0\n",
      "\n",
      "1.6\n",
      "\n",
      "1.3333333333333333\n",
      "\n",
      "1.1428571428571428\n",
      "\n",
      "1.0\n",
      "\n",
      "0.8888888888888888\n",
      "\n",
      "0.8\n",
      "\n",
      "9\n",
      "\n",
      "9.0\n",
      "\n",
      "4.5\n",
      "\n",
      "3.0\n",
      "\n",
      "2.25\n",
      "\n",
      "1.8\n",
      "\n",
      "1.5\n",
      "\n",
      "1.2857142857142858\n",
      "\n",
      "1.125\n",
      "\n",
      "1.0\n",
      "\n",
      "0.9\n",
      "\n",
      "10\n",
      "\n",
      "10.0\n",
      "\n",
      "5.0\n",
      "\n",
      "3.3333333333333335\n",
      "\n",
      "2.5\n",
      "\n",
      "2.0\n",
      "\n",
      "1.6666666666666667\n",
      "\n",
      "1.4285714285714286\n",
      "\n",
      "1.25\n",
      "\n",
      "1.1111111111111112\n",
      "\n",
      "1.0\n",
      "\n"
     ]
    }
   ],
   "source": [
    "#nsted loop\n",
    "for i in range(1,11):\n",
    "  print(i) \n",
    "  print()   #optional \n",
    "  for j in range( 1,11):\n",
    "    print(i/j)\n",
    "    print() #optional"
   ]
  },
  {
   "cell_type": "code",
   "execution_count": null,
   "metadata": {
    "id": "NnQg4eU9zE-B"
   },
   "outputs": [],
   "source": []
  },
  {
   "cell_type": "code",
   "execution_count": 8,
   "metadata": {
    "colab": {
     "base_uri": "https://localhost:8080/"
    },
    "id": "cAEXK7-szFXK",
    "outputId": "36605ad7-17bf-4ec7-ac57-3d91f9cbb1b7"
   },
   "outputs": [
    {
     "name": "stdout",
     "output_type": "stream",
     "text": [
      "1.0\n",
      "0.5\n",
      "0.3333333333333333\n",
      "2.0\n",
      "1.0\n",
      "0.6666666666666666\n",
      "3.0\n",
      "1.5\n",
      "1.0\n"
     ]
    }
   ],
   "source": [
    "#nsted loop\n",
    "for i in range(1,4):\n",
    " \n",
    "  for j in range( 1,4):\n",
    "    print(i/j)\n",
    "  "
   ]
  },
  {
   "cell_type": "code",
   "execution_count": 9,
   "metadata": {
    "colab": {
     "base_uri": "https://localhost:8080/"
    },
    "id": "jbzJFY9tyoO-",
    "outputId": "de8160e0-4b77-42cf-bcfa-a926a463a44a"
   },
   "outputs": [
    {
     "name": "stdout",
     "output_type": "stream",
     "text": [
      "1 , 1.0 , 2 , 3\n",
      "1 , 0.5 , 3 , 5\n",
      "1 , 0.3333333333333333 , 4 , 7\n",
      "1 , 0.25 , 5 , 9\n",
      "2 , 2.0 , 3 , 0\n",
      "2 , 1.0 , 4 , 6\n",
      "2 , 0.6666666666666666 , 5 , 4\n",
      "2 , 0.5 , 6 , 10\n",
      "3 , 3.0 , 4 , 1\n",
      "3 , 1.5 , 5 , 7\n",
      "3 , 1.0 , 6 , 5\n",
      "3 , 0.75 , 7 , 11\n",
      "4 , 4.0 , 5 , 6\n",
      "4 , 2.0 , 6 , 0\n",
      "4 , 1.3333333333333333 , 7 , 2\n",
      "4 , 1.0 , 8 , 12\n"
     ]
    }
   ],
   "source": [
    "#nested loop also usage of ,\n",
    "for i in range(1,5):\n",
    "  \n",
    "  for j in range( 1,5):\n",
    "    print(i,\",\",i/j,\",\",i+j,\",\", i^2*j)"
   ]
  },
  {
   "cell_type": "code",
   "execution_count": 10,
   "metadata": {
    "colab": {
     "base_uri": "https://localhost:8080/"
    },
    "id": "vwLRSUzZ22vY",
    "outputId": "3dd53d15-bb6c-4ab4-85ca-493524eaca16"
   },
   "outputs": [
    {
     "name": "stdout",
     "output_type": "stream",
     "text": [
      "1 , 1.01 , 0.51 , 0.33333333333333331 , 0.251 , 0.21 , 0.166666666666666661 , 0.142857142857142851 , 0.1251 , 0.11111111111111111 , 0.12 , 2.02 , 1.02 , 0.66666666666666662 , 0.52 , 0.42 , 0.33333333333333332 , 0.28571428571428572 , 0.252 , 0.22222222222222222 , 0.23 , 3.03 , 1.53 , 1.03 , 0.753 , 0.63 , 0.53 , 0.428571428571428553 , 0.3753 , 0.33333333333333333 , 0.34 , 4.04 , 2.04 , 1.33333333333333334 , 1.04 , 0.84 , 0.66666666666666664 , 0.57142857142857144 , 0.54 , 0.44444444444444444 , 0.4"
     ]
    }
   ],
   "source": [
    "#nested loop also usage of end=\"\"\n",
    "for i in range(1,5):\n",
    "  \n",
    "  for j in range( 1,11):\n",
    "    print(i,\",\",i/j,end=\"\")"
   ]
  },
  {
   "cell_type": "code",
   "execution_count": 11,
   "metadata": {
    "colab": {
     "base_uri": "https://localhost:8080/"
    },
    "id": "1USmc_IJ3G_c",
    "outputId": "4c423d07-66ed-4759-fcfa-59bb0ae02df6"
   },
   "outputs": [
    {
     "name": "stdout",
     "output_type": "stream",
     "text": [
      "1   21   31   41   51   61   71   81   91   101   112   32   42   52   62   72   82   92   102   112   123   43   53   63   73   83   93   103   113   123   134   54   64   74   84   94   104   114   124   134   14"
     ]
    }
   ],
   "source": [
    "#nested loop also usage of end=\" and simply \" \n",
    "for i in range(1,5):\n",
    "  \n",
    "  for j in range( 1,11):\n",
    "    print(i,\" \", i+j,end=\"\")"
   ]
  },
  {
   "cell_type": "code",
   "execution_count": 12,
   "metadata": {
    "colab": {
     "base_uri": "https://localhost:8080/"
    },
    "id": "g2T1GMoX3fMf",
    "outputId": "5c993aad-242a-4e9e-98db-880db39a6788"
   },
   "outputs": [
    {
     "name": "stdout",
     "output_type": "stream",
     "text": [
      "1   2  1   3  1   4  1   5  1   6  1   7  1   8  1   9  1   10  1   11  2   3  2   4  2   5  2   6  2   7  2   8  2   9  2   10  2   11  2   12  3   4  3   5  3   6  3   7  3   8  3   9  3   10  3   11  3   12  3   13  4   5  4   6  4   7  4   8  4   9  4   10  4   11  4   12  4   13  4   14  "
     ]
    }
   ],
   "source": [
    "#nested loop also usage of end=\" and simply \" \n",
    "for i in range(1,5):\n",
    "  \n",
    "  for j in range( 1,11):\n",
    "    print(i,\" \", i+j,\" \",end=\"\")"
   ]
  },
  {
   "cell_type": "code",
   "execution_count": 13,
   "metadata": {
    "colab": {
     "base_uri": "https://localhost:8080/"
    },
    "id": "tZA2hzJu0Csk",
    "outputId": "b2dad9d4-4133-48e6-b09e-25eadda62fb9"
   },
   "outputs": [
    {
     "name": "stdout",
     "output_type": "stream",
     "text": [
      "1\n",
      "1.00.50.33333333333333330.250.20.166666666666666660.142857142857142850.1250.11111111111111110.12\n",
      "2.01.00.66666666666666660.50.40.33333333333333330.28571428571428570.250.22222222222222220.23\n",
      "3.01.51.00.750.60.50.428571428571428550.3750.33333333333333330.34\n",
      "4.02.01.33333333333333331.00.80.66666666666666660.57142857142857140.50.44444444444444440.4"
     ]
    }
   ],
   "source": [
    "#nsted loop also usage of end=\" and simply \" \n",
    "for i in range(1,5):\n",
    "  print(i,)\n",
    "  for j in range( 1,11):\n",
    "    print(i/j,end=\"\")"
   ]
  },
  {
   "cell_type": "code",
   "execution_count": 14,
   "metadata": {
    "id": "49QWmjy6xBUQ"
   },
   "outputs": [
    {
     "name": "stdout",
     "output_type": "stream",
     "text": [
      "Enter the number of rows5\n",
      "\n",
      "* \n",
      "* * \n",
      "* * * \n",
      "* * * * \n",
      "* * * * * \n",
      "5 rows has been printed\n"
     ]
    }
   ],
   "source": [
    "# This is the example of print simple pyramid pattern  \n",
    "n = int(input(\"Enter the number of rows\"))  \n",
    "# outer loop to handle number of rows  \n",
    "for i in range(0, n+1):  \n",
    "    # inner loop to handle number of columns  \n",
    "    # values is changing according to outer loop  \n",
    "        for j in range(0, i):  \n",
    "            # printing stars  \n",
    "            print(\"* \", end=\"\")       \n",
    "    # ending line after each row  \n",
    "        print() \n",
    "#pareekishanam\n",
    "else:\n",
    "  print(i,\"rows has been printed\")"
   ]
  },
  {
   "cell_type": "code",
   "execution_count": 15,
   "metadata": {
    "scrolled": true
   },
   "outputs": [
    {
     "ename": "NameError",
     "evalue": "name 'harisfn' is not defined",
     "output_type": "error",
     "traceback": [
      "\u001b[1;31m---------------------------------------------------------------------------\u001b[0m",
      "\u001b[1;31mNameError\u001b[0m                                 Traceback (most recent call last)",
      "\u001b[1;32m~\\AppData\\Local\\Temp/ipykernel_11444/3163655318.py\u001b[0m in \u001b[0;36m<module>\u001b[1;34m\u001b[0m\n\u001b[1;32m----> 1\u001b[1;33m \u001b[0mharisfn\u001b[0m\u001b[1;33m(\u001b[0m\u001b[1;33m)\u001b[0m\u001b[1;33m\u001b[0m\u001b[1;33m\u001b[0m\u001b[0m\n\u001b[0m",
      "\u001b[1;31mNameError\u001b[0m: name 'harisfn' is not defined"
     ]
    }
   ],
   "source": [
    "harisfn()"
   ]
  },
  {
   "cell_type": "code",
   "execution_count": null,
   "metadata": {},
   "outputs": [],
   "source": [
    "#create a function\n",
    "def harisfn(x,y):\n",
    "    print(x, y)\n",
    "#calling the fn \n",
    "harisfn(1,2)"
   ]
  },
  {
   "cell_type": "code",
   "execution_count": null,
   "metadata": {},
   "outputs": [],
   "source": [
    " #create a function\n",
    "def harisfn(*x):#tuple and arbitrary argument\n",
    "    print(x, type(x))"
   ]
  },
  {
   "cell_type": "code",
   "execution_count": null,
   "metadata": {},
   "outputs": [],
   "source": [
    "#calling the fn \n",
    "harisfn(1,2,59, 69)"
   ]
  },
  {
   "cell_type": "code",
   "execution_count": null,
   "metadata": {},
   "outputs": [],
   "source": [
    " #create a function\n",
    "def harisfn(*x):                          #tuple and arbitrary argument\n",
    "    print(x, type(x),\"**\", x[3])\n",
    "    for i in x:\n",
    "        print( \"position of:\", i, \"is\",)\n",
    "    #calling the fn \n",
    "harisfn(1,2,59, 69)"
   ]
  },
  {
   "cell_type": "code",
   "execution_count": null,
   "metadata": {},
   "outputs": [],
   "source": [
    "#lambda fn basics\n",
    "def y(x):\n",
    "    print(x)\n",
    "y(5)"
   ]
  },
  {
   "cell_type": "code",
   "execution_count": null,
   "metadata": {},
   "outputs": [],
   "source": [
    "#lambda fn\n",
    "sum=lambda x,y:x+y\n",
    "print(sum(4,3))\n"
   ]
  },
  {
   "cell_type": "code",
   "execution_count": null,
   "metadata": {},
   "outputs": [],
   "source": [
    "def myfunc(x):\n",
    "    return lambda a:a*x \n",
    "\n",
    "double = myfunc(2) #Lambda 5a??\n",
    "triple=myfunc(3)\n",
    "print(double(3))\n",
    "print(triple(5))"
   ]
  },
  {
   "cell_type": "code",
   "execution_count": null,
   "metadata": {},
   "outputs": [],
   "source": [
    "fruits= [\"amphibians\",\"boobs\",\"caterpillar\",\"dick\"]\n",
    "print(fruits[2])\n",
    "print(fruits[len(fruits)-1])     # to prove that the length of array is 3 and fruits[2] is dick\n"
   ]
  },
  {
   "cell_type": "code",
   "execution_count": null,
   "metadata": {},
   "outputs": [],
   "source": [
    "#ADD and remove new element to array using APPEND, POP, Remove\n",
    "fruits.append(\"grapes\")\n",
    "print(fruits)\n",
    "#remove using POP\n",
    "fruits.pop(2)    #removing using the position of element within array using POP\n",
    "print(fruits)\n",
    "\n",
    "fruits.remove(\"grapes\")    #removed grapes using fruits.remove also \n",
    "print(fruits)\n",
    "\n"
   ]
  },
  {
   "cell_type": "code",
   "execution_count": 5,
   "metadata": {},
   "outputs": [
    {
     "name": "stdout",
     "output_type": "stream",
     "text": [
      "caterpillar\n",
      "['amphibians', 'boons', 'duck', 'manhattan']\n",
      "['boons', 'duck', 'manhattan']\n",
      "['boons']\n",
      "3\n",
      "None\n"
     ]
    }
   ],
   "source": [
    "fruits= [\"amphibians\",\"boons\",\"caterpillar\",\"duck\"]\n",
    "print(fruits.pop(2))\n",
    "fruits.insert(4,\"manhattan\")  #appending??\n",
    "print(fruits)\n",
    "print(fruits[1:])    #tried slicing list also\n",
    "print(fruits[1:2])    #tried slicing list also\n",
    "print(fruits.index(\"manhattan\"))   #printing the index also\n",
    "print(fruits.sort())     #this syntax diddnt work|| tried to sort and print together"
   ]
  },
  {
   "cell_type": "code",
   "execution_count": null,
   "metadata": {},
   "outputs": [],
   "source": [
    "fruits= [\"amphibians\",\"boons\",\"caterpillar\",\"duck\"]\n",
    "fruits.sort()       #to sort inalpha order\n",
    "print(fruits)\n",
    "fruits.reverse()      #to sort in reverse order\n",
    "print(fruits)"
   ]
  },
  {
   "cell_type": "code",
   "execution_count": 2,
   "metadata": {},
   "outputs": [
    {
     "name": "stdout",
     "output_type": "stream",
     "text": [
      "l\n"
     ]
    }
   ],
   "source": [
    "#Dictionary.\n",
    "#no index positions, {} used, key values entered.\n",
    "dict={'a':'l', 'b':'m', 'c':'n'}\n",
    "print(dict['a'])    #remember aabout the square bracket and ' ' within as syntax"
   ]
  },
  {
   "cell_type": "code",
   "execution_count": 4,
   "metadata": {},
   "outputs": [
    {
     "name": "stdout",
     "output_type": "stream",
     "text": [
      "{'a': '123', 'b': [1, 2, 3, 4, 5], 'c': {'d': 'y', 'e': 150}}\n",
      "4\n",
      "150\n",
      "Y\n"
     ]
    }
   ],
   "source": [
    "#Dictionary.\n",
    "dict={'a':'123', 'b':[1,2,3,4,5], 'c':{'d': 'y','e': 150}}\n",
    "print(dict)\n",
    "print((dict['b'][3]))\n",
    "print(dict['c']['e'])  # remember syntax to print 150 (nested dict within a dict)\n",
    "print(dict['c']['d'].upper())    # prunt uppercase just by adding .upper() to the command\n",
    "\n",
    "\n",
    "# dict.tab gives the lists  like keys, vaues, items- to return key-value pairs like tuple"
   ]
  },
  {
   "cell_type": "code",
   "execution_count": 1,
   "metadata": {},
   "outputs": [
    {
     "name": "stdout",
     "output_type": "stream",
     "text": [
      "2\n",
      "(2, 3, 2, 5, 2, 3, 2, 2, 2)\n",
      "6\n"
     ]
    },
    {
     "data": {
      "text/plain": [
       "2"
      ]
     },
     "execution_count": 1,
     "metadata": {},
     "output_type": "execute_result"
    }
   ],
   "source": [
    "#tuples- within parantheses, similar to lists except immutability (stored values cant be changed)\n",
    "#diffrnt objects mixed, \n",
    "\n",
    "t=('one',2,3,2,5,2,3,2,2,2)    #remember ' '\n",
    "type(t)\n",
    "print(t[1])           #indexing\n",
    "print(t[1:])     #slicing first element\n",
    "print(t.count(2))\n",
    "t.index(3)      # index of fiest occurence of 3\n",
    "\n",
    "\n",
    "\n"
   ]
  },
  {
   "cell_type": "code",
   "execution_count": null,
   "metadata": {},
   "outputs": [],
   "source": [
    "#sets\n",
    "\n",
    "myset=set()      #set() to create a set type\n",
    "mylist=[1,1,2,3,4,2,3,5]\n",
    "set(mylist)    # directly calling the list above to a set\n",
    "\n",
    "#booleans\n"
   ]
  },
  {
   "cell_type": "code",
   "execution_count": null,
   "metadata": {},
   "outputs": [],
   "source": [
    "#File handling \n",
    "%matplotlib inline\n"
   ]
  },
  {
   "cell_type": "code",
   "execution_count": 1,
   "metadata": {},
   "outputs": [
    {
     "name": "stderr",
     "output_type": "stream",
     "text": [
      "UsageError: Cell magic `%%` not found.\n"
     ]
    }
   ],
   "source": [
    "%% writefile hari.txt\n",
    "Hello   # this worked in the matplotlib trial file"
   ]
  },
  {
   "cell_type": "code",
   "execution_count": null,
   "metadata": {},
   "outputs": [],
   "source": [
    "myfile=open('myfile.txt')\n"
   ]
  },
  {
   "cell_type": "code",
   "execution_count": 1,
   "metadata": {},
   "outputs": [
    {
     "name": "stdout",
     "output_type": "stream",
     "text": [
      "sree.visakh@elites.com\n",
      "13000\n",
      "sreevisakh\n",
      "jyothikashari\n",
      "jyothikashari\n"
     ]
    },
    {
     "data": {
      "text/plain": [
       "'jyothikashari'"
      ]
     },
     "execution_count": 1,
     "metadata": {},
     "output_type": "execute_result"
    }
   ],
   "source": [
    "#Classes and objects\n",
    "class stud:   #pass can be used to pass this class without doing anything\n",
    "    def __init__(self,first,last,fees):\n",
    "        self.first=first\n",
    "        self.last=last\n",
    "        self.fees=fees\n",
    "        self.email=first+\".\"+last+\"@elites.com\"\n",
    "        \n",
    "    def fullname(self): #within the class,each method automatially takes the instance as first argument(self).\n",
    "        return '{}{}'.format(self.first,self.last)    #remember poco\n",
    "        \n",
    "stud_1=stud('sree','visakh',10000)\n",
    "stud_2=stud('jyothika','shari',13000)\n",
    "\n",
    "print(stud_1.email)\n",
    "print(stud_2.fees)\n",
    "    \n",
    "# print the fullname method 1 \n",
    "#attribute\n",
    "\n",
    "print('{}{}'.format(stud_1.first,stud_1.last))\n",
    "\n",
    "#poco\n",
    "#print full name (using method)\n",
    "print(stud_2.fullname())    #remember () try without () later and see wht happens\n",
    "\n",
    "print(stud.fullname(stud_2)) # whats the diff between these two lines.\n",
    "stud.fullname(stud_2)"
   ]
  },
  {
   "cell_type": "code",
   "execution_count": null,
   "metadata": {},
   "outputs": [],
   "source": [
    "#Lesson2 Class variables\n",
    "#example annual raise\n",
    "class stud:   #pass can be used to pass this class without doing anything\n",
    "    def __init__(self,first,last,fees):\n",
    "        self.first=first\n",
    "        self.last=last\n",
    "        self.fees=fees\n",
    "        self.email=first+\".\"+last+\"@elites.com\"\n",
    "        \n",
    "    def fullname(self):\n",
    "        return '{}{}'.format(self.first,self.last) \n",
    "    def apply_raise(self):\n",
    "        self.fees=int(self.fees*1.04)\n",
    "        \n",
    "stud_1=stud('sree','visakh',10000)\n",
    "stud_2=stud('jyothika','shari',13000)\n",
    "\n",
    "        \n",
    "stud_1.apply_raise()   #remember () and the syntax \n",
    "print(stud_1.fees)"
   ]
  },
  {
   "cell_type": "code",
   "execution_count": 10,
   "metadata": {},
   "outputs": [
    {
     "data": {
      "text/plain": [
       "{'Sree': 'Visakh', 'Jyothika': 'Shari', 'Karthik': 'Jayan'}"
      ]
     },
     "execution_count": 10,
     "metadata": {},
     "output_type": "execute_result"
    }
   ],
   "source": [
    "stud=['Sree','Jyothika','Karthik']\n",
    "sname=['Visakh','Shari','Jayan']\n",
    "#list(zip(stud,zip(stud,sname)))\n",
    "\n",
    "{stud:sname for stud,sname in zip(stud,sname)}"
   ]
  },
  {
   "cell_type": "code",
   "execution_count": 16,
   "metadata": {},
   "outputs": [
    {
     "ename": "AttributeError",
     "evalue": "module 'pandas' has no attribute 'series'",
     "output_type": "error",
     "traceback": [
      "\u001b[1;31m---------------------------------------------------------------------------\u001b[0m",
      "\u001b[1;31mAttributeError\u001b[0m                            Traceback (most recent call last)",
      "\u001b[1;32m~\\AppData\\Local\\Temp/ipykernel_992/1509280445.py\u001b[0m in \u001b[0;36m<module>\u001b[1;34m\u001b[0m\n\u001b[0;32m      1\u001b[0m \u001b[1;32mimport\u001b[0m \u001b[0mpandas\u001b[0m \u001b[1;32mas\u001b[0m \u001b[0mpd\u001b[0m\u001b[1;33m\u001b[0m\u001b[1;33m\u001b[0m\u001b[0m\n\u001b[1;32m----> 2\u001b[1;33m \u001b[0mpd\u001b[0m\u001b[1;33m.\u001b[0m\u001b[0mseries\u001b[0m\u001b[1;33m(\u001b[0m\u001b[0mrange\u001b[0m\u001b[1;33m(\u001b[0m\u001b[1;36m60\u001b[0m\u001b[1;33m)\u001b[0m\u001b[1;33m)\u001b[0m\u001b[1;33m\u001b[0m\u001b[1;33m\u001b[0m\u001b[0m\n\u001b[0m",
      "\u001b[1;32m~\\anaconda3\\lib\\site-packages\\pandas\\__init__.py\u001b[0m in \u001b[0;36m__getattr__\u001b[1;34m(name)\u001b[0m\n\u001b[0;32m    242\u001b[0m         \u001b[1;32mreturn\u001b[0m \u001b[0m_SparseArray\u001b[0m\u001b[1;33m\u001b[0m\u001b[1;33m\u001b[0m\u001b[0m\n\u001b[0;32m    243\u001b[0m \u001b[1;33m\u001b[0m\u001b[0m\n\u001b[1;32m--> 244\u001b[1;33m     \u001b[1;32mraise\u001b[0m \u001b[0mAttributeError\u001b[0m\u001b[1;33m(\u001b[0m\u001b[1;34mf\"module 'pandas' has no attribute '{name}'\"\u001b[0m\u001b[1;33m)\u001b[0m\u001b[1;33m\u001b[0m\u001b[1;33m\u001b[0m\u001b[0m\n\u001b[0m\u001b[0;32m    245\u001b[0m \u001b[1;33m\u001b[0m\u001b[0m\n\u001b[0;32m    246\u001b[0m \u001b[1;33m\u001b[0m\u001b[0m\n",
      "\u001b[1;31mAttributeError\u001b[0m: module 'pandas' has no attribute 'series'"
     ]
    }
   ],
   "source": []
  }
 ],
 "metadata": {
  "colab": {
   "name": "loops.ipynb",
   "provenance": []
  },
  "kernelspec": {
   "display_name": "Python 3 (ipykernel)",
   "language": "python",
   "name": "python3"
  },
  "language_info": {
   "codemirror_mode": {
    "name": "ipython",
    "version": 3
   },
   "file_extension": ".py",
   "mimetype": "text/x-python",
   "name": "python",
   "nbconvert_exporter": "python",
   "pygments_lexer": "ipython3",
   "version": "3.9.7"
  }
 },
 "nbformat": 4,
 "nbformat_minor": 1
}
